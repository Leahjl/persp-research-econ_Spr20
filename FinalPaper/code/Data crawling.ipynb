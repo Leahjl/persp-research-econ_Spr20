{
 "cells": [
  {
   "cell_type": "code",
   "execution_count": 1,
   "metadata": {},
   "outputs": [],
   "source": [
    "import os\n",
    "import tweepy as tw\n",
    "import pandas as pd\n",
    "import csv\n",
    "import datetime\n",
    "\n",
    "consumer_key = 'RO3nHei9oHbPH5reh2pUDxsnv'\n",
    "consumer_secret = '9Yzw2JMJS0UQRSvVSiHvgneAj2QzAh6C6a87SoeePgx1Qv3cdR'\n",
    "access_token = '1230947381992206343-S0ncT5Uk8lfRXbqCMQH2OWcsTTn6Y8'\n",
    "access_token_secret = 'tQrxTsMnzn6q6Ubgng62EdHg4K5f1aiUaX36Ez6SF5Mu8'\n",
    "\n",
    "auth = tw.OAuthHandler(consumer_key, consumer_secret)\n",
    "auth.set_access_token(access_token, access_token_secret)\n",
    "api = tw.API(auth, wait_on_rate_limit=True)\n",
    "\n",
    "def search_tweets(search_words):\n",
    "    '''\n",
    "    Using the search word to find tweets from Twitter and write them in a csv \n",
    "    file.\n",
    "\n",
    "    Inputs: \n",
    "    search_words: the keyword that we want the tweets to contain\n",
    "    '''\n",
    "\n",
    "    tweets = tw.Cursor(api.search,\n",
    "                       q=search_words,\n",
    "                       lang=\"en\",\n",
    "                       ).items()\n",
    "    with open('metoo.csv', mode='w') as metoo_tweets:\n",
    "        tweets_writer = csv.writer(\n",
    "        metoo_tweets, delimiter=',', quotechar='\"', quoting=csv.QUOTE_MINIMAL)\n",
    "        tweets_writer.writerow(\n",
    "            [\"search_words: \" + str(search_words)])\n",
    "        tweets_writer.writerow(\n",
    "            ['Created_at', 'Tweet_Content'])\n",
    "        for tweet in tweets:\n",
    "            tweets_writer.writerow(\n",
    "                [tweet.created_at, tweet.text])\n",
    "        print(\"SEARCH COMPLETED\")\n",
    "\n",
    "    return None"
   ]
  },
  {
   "cell_type": "code",
   "execution_count": 4,
   "metadata": {},
   "outputs": [],
   "source": [
    "search_tweets('metoo')"
   ]
  }
 ],
 "metadata": {
  "kernelspec": {
   "display_name": "Python 3",
   "language": "python",
   "name": "python3"
  },
  "language_info": {
   "codemirror_mode": {
    "name": "ipython",
    "version": 3
   },
   "file_extension": ".py",
   "mimetype": "text/x-python",
   "name": "python",
   "nbconvert_exporter": "python",
   "pygments_lexer": "ipython3",
   "version": "3.7.3"
  }
 },
 "nbformat": 4,
 "nbformat_minor": 2
}
